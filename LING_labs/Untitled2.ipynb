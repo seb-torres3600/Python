{
 "cells": [
  {
   "cell_type": "code",
   "execution_count": 3,
   "metadata": {},
   "outputs": [
    {
     "name": "stdout",
     "output_type": "stream",
     "text": [
      "Type token ratio: 0.22\n"
     ]
    }
   ],
   "source": [
    "#Lab 11\n",
    "#Sebastian Torres\n",
    "\n",
    "file_one = open(\"1200wsj.txt\", \"r\")\n",
    "file_string  = file_one.read()\n",
    "tokens = file_string.split()\n",
    "size_tokens = len(tokens)\n",
    "vocabulary = set(file_string.split())\n",
    "size_vocabulary = len(vocabulary)\n",
    "\n",
    "type_token_ratio = size_vocabulary/size_tokens\n",
    "print(\"Type token ratio: {:.2f}\".format(type_token_ratio))"
   ]
  },
  {
   "cell_type": "code",
   "execution_count": null,
   "metadata": {},
   "outputs": [],
   "source": []
  }
 ],
 "metadata": {
  "kernelspec": {
   "display_name": "Python 3",
   "language": "python",
   "name": "python3"
  },
  "language_info": {
   "codemirror_mode": {
    "name": "ipython",
    "version": 3
   },
   "file_extension": ".py",
   "mimetype": "text/x-python",
   "name": "python",
   "nbconvert_exporter": "python",
   "pygments_lexer": "ipython3",
   "version": "3.7.3"
  }
 },
 "nbformat": 4,
 "nbformat_minor": 4
}
