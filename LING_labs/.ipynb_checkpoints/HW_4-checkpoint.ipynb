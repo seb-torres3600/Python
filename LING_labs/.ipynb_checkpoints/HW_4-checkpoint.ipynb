{
 "cells": [
  {
   "cell_type": "code",
   "execution_count": 1,
   "metadata": {},
   "outputs": [
    {
     "data": {
      "text/plain": [
       "<Figure size 640x480 with 1 Axes>"
      ]
     },
     "metadata": {},
     "output_type": "display_data"
    }
   ],
   "source": [
    "%matplotlib inline\n",
    "from matplotlib import pyplot as plt\n",
    "myfile = open('1200wsj.txt') \n",
    "mystring = myfile.read() \n",
    "lowerstr = mystring.lower() \n",
    "characters = list(lowerstr) #makes list of characters\n",
    "lettercount = {} \n",
    "for w in characters: #counts letters    \n",
    "    if w in lettercount:        \n",
    "        lettercount[w] += 1   \n",
    "    else:        \n",
    "        lettercount[w] = 1\n",
    "\n",
    "del lettercount[\" \"] #deletes spaces from lettercount\n",
    "sorted_dic = {k: v for k, v in sorted(lettercount.items(), key=lambda item: item[1],reverse=True)}\n",
    "\n",
    "keys = sorted_dic.keys()\n",
    "values = sorted_dic.values()\n",
    "plt.bar(keys, values,color = 'red')\n",
    "plt.title(\"Character Frequency\")\n",
    "plt.xlabel(\"Characters\")\n",
    "plt.ylabel(\"Frequency\")\n",
    "plt.show()\n",
    "\n"
   ]
  },
  {
   "cell_type": "code",
   "execution_count": null,
   "metadata": {},
   "outputs": [],
   "source": []
  }
 ],
 "metadata": {
  "kernelspec": {
   "display_name": "Python 3",
   "language": "python",
   "name": "python3"
  },
  "language_info": {
   "codemirror_mode": {
    "name": "ipython",
    "version": 3
   },
   "file_extension": ".py",
   "mimetype": "text/x-python",
   "name": "python",
   "nbconvert_exporter": "python",
   "pygments_lexer": "ipython3",
   "version": "3.7.3"
  }
 },
 "nbformat": 4,
 "nbformat_minor": 4
}
