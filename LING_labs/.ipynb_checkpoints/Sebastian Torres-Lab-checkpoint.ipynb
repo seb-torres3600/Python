{
 "cells": [
  {
   "cell_type": "code",
   "execution_count": 8,
   "metadata": {},
   "outputs": [
    {
     "name": "stdin",
     "output_type": "stream",
     "text": [
      "Enter a number: 22\n",
      "Please enter a new number: 68\n"
     ]
    },
    {
     "name": "stdout",
     "output_type": "stream",
     "text": [
      "Average of numbers: 45.0\n"
     ]
    }
   ],
   "source": [
    "numUser = input (\"Enter a number:\")\n",
    "numUser2 = int(numUser)\n",
    "numUser3 = input(\"Please enter a new number:\")\n",
    "numUser4 = int(numUser3)\n",
    "numTotal = numUser2 + numUser4\n",
    "numAverage = numTotal / 2\n",
    "print(\"Average of numbers:\", numAverage) \n",
    "\n"
   ]
  },
  {
   "cell_type": "code",
   "execution_count": null,
   "metadata": {},
   "outputs": [],
   "source": []
  }
 ],
 "metadata": {
  "kernelspec": {
   "display_name": "Python 3",
   "language": "python",
   "name": "python3"
  },
  "language_info": {
   "codemirror_mode": {
    "name": "ipython",
    "version": 3
   },
   "file_extension": ".py",
   "mimetype": "text/x-python",
   "name": "python",
   "nbconvert_exporter": "python",
   "pygments_lexer": "ipython3",
   "version": "3.7.3"
  }
 },
 "nbformat": 4,
 "nbformat_minor": 4
}
