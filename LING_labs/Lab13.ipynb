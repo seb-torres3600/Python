{
 "cells": [
  {
   "cell_type": "code",
   "execution_count": 1,
   "metadata": {},
   "outputs": [
    {
     "name": "stdout",
     "output_type": "stream",
     "text": [
      "[1, 2, 3, 4, 5]\n",
      "[5, 4, 3, 2, 1]\n",
      "['a', 'b', 'c']\n",
      "['c', 'b', 'a']\n"
     ]
    }
   ],
   "source": [
    "numberlist = [5,4,3,2,1]\n",
    "letterlist = [\"c\",\"b\",\"a\"]\n",
    "\n",
    "def mySort(NumList, reverse = False):\n",
    "    Number = len(NumList)\n",
    "    i = 0\n",
    "    while(i < Number):\n",
    "        j = i + 1\n",
    "        if(reverse == True):\n",
    "            while(j < Number):\n",
    "                if(NumList[i] < NumList[j]):\n",
    "                    temp = NumList[i]\n",
    "                    NumList[i] = NumList[j]\n",
    "                    NumList[j] = temp\n",
    "                j = j + 1\n",
    "        else:\n",
    "            while(j < Number):\n",
    "                if(NumList[i] > NumList[j]):\n",
    "                    temp = NumList[i]\n",
    "                    NumList[i] = NumList[j]\n",
    "                    NumList[j] = temp\n",
    "                j = j + 1\n",
    "        i = i + 1\n",
    "    return(NumList)\n",
    "\n",
    "\n",
    "print(mySort(numberlist))#Part A\n",
    "print(mySort(numberlist,reverse = True))#Part B,Option 2\n",
    "print(mySort(letterlist))#Part A\n",
    "print(mySort(letterlist,reverse = True))#Part B,Option 2\n"
   ]
  },
  {
   "cell_type": "code",
   "execution_count": null,
   "metadata": {},
   "outputs": [],
   "source": []
  }
 ],
 "metadata": {
  "kernelspec": {
   "display_name": "Python 3",
   "language": "python",
   "name": "python3"
  },
  "language_info": {
   "codemirror_mode": {
    "name": "ipython",
    "version": 3
   },
   "file_extension": ".py",
   "mimetype": "text/x-python",
   "name": "python",
   "nbconvert_exporter": "python",
   "pygments_lexer": "ipython3",
   "version": "3.8.5"
  }
 },
 "nbformat": 4,
 "nbformat_minor": 4
}
