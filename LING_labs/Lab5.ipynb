{
 "cells": [
  {
   "cell_type": "code",
   "execution_count": 2,
   "metadata": {},
   "outputs": [
    {
     "name": "stdin",
     "output_type": "stream",
     "text": [
      "Enter a sentence: The quick brown fox jumped over the lazy dog.\n"
     ]
    },
    {
     "name": "stdout",
     "output_type": "stream",
     "text": [
      "\" The quick brown fox jumped over the lazy dog. \" contains 45 characters.\n"
     ]
    }
   ],
   "source": [
    "sent = input(\"Enter a sentence:\")\n",
    "length = len(sent)\n",
    "print(\"Your sentence\", \"\\\"\",sent,\"\\\"\", \"contains\", length, \"characters.\")"
   ]
  },
  {
   "cell_type": "code",
   "execution_count": null,
   "metadata": {},
   "outputs": [],
   "source": [
    "fruits = [\"apple\", \"banana\",\"kiwi\", \"tomato\", \"apricot\"]\n",
    "length = len(fruits)\n",
    "stop = 1\n",
    "while(stop != length + 1 ):\n",
    "    print(fruits[length - stop])\n",
    "    stop = stop + 1\n"
   ]
  },
  {
   "cell_type": "code",
   "execution_count": null,
   "metadata": {},
   "outputs": [],
   "source": []
  }
 ],
 "metadata": {
  "kernelspec": {
   "display_name": "Python 3",
   "language": "python",
   "name": "python3"
  },
  "language_info": {
   "codemirror_mode": {
    "name": "ipython",
    "version": 3
   },
   "file_extension": ".py",
   "mimetype": "text/x-python",
   "name": "python",
   "nbconvert_exporter": "python",
   "pygments_lexer": "ipython3",
   "version": "3.8.5"
  }
 },
 "nbformat": 4,
 "nbformat_minor": 4
}
