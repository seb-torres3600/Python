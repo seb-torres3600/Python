{
 "cells": [
  {
   "cell_type": "code",
   "execution_count": 1,
   "metadata": {},
   "outputs": [
    {
     "data": {
      "image/png": "[encoded data removed]",
      "text/plain": [
       "<Figure size 432x288 with 1 Axes>"
      ]
     },
     "metadata": {
      "needs_background": "light"
     },
     "output_type": "display_data"
    }
   ],
   "source": [
    "%matplotlib inline\n",
    "from matplotlib import pyplot as plt\n",
    "bigString = myfile.read()\n",
    "myList = bigString.split()\n",
    "wordcounts = {}\n",
    "for w in myList:    \n",
    "    if w in wordcounts:        \n",
    "        wordcounts[w] += 1   \n",
    "    else:        \n",
    "        wordcounts[w] = 1\n",
    "x = {k: v for k, v in sorted(wordcounts.items(), key=lambda item: item[1])}\n",
    "\n",
    "words = []\n",
    "counts = []\n",
    "for pair in x.items():\n",
    "    counts.append(pair[1])\n",
    "    words.append(pair[0])\n",
    "words.reverse()\n",
    "counts.reverse()\n",
    "plt.plot(counts)\n",
    "plt.xlabel(\"Words\")\n",
    "plt.ylabel(\"Counts\")\n",
    "plt.show()\n",
    "#print(counts)\n",
    "#print(words)"
   ]
  },
  {
   "cell_type": "code",
   "execution_count": 2,
   "metadata": {},
   "outputs": [
    {
     "name": "stdout",
     "output_type": "stream",
     "text": [
      "['rabbit', 'horse', 'Mouse', 'cat', 'Dog']\n",
      "\n",
      "['cat', 'Dog', 'horse', 'Mouse', 'rabbit']\n"
     ]
    }
   ],
   "source": [
    "mylist = ['rabbit', 'Dog', 'cat', 'Mouse', 'horse']\n",
    "\n",
    "#Part A\n",
    "t = sorted(mylist, key = lambda a: len(a))\n",
    "t.reverse()\n",
    "print(t)\n",
    "print()\n",
    "\n",
    "#Part B\n",
    "y = sorted(mylist, key = lambda a: a.casefold())\n",
    "print(y)"
   ]
  },
  {
   "cell_type": "code",
   "execution_count": null,
   "metadata": {},
   "outputs": [],
   "source": []
  }
 ],
 "metadata": {
  "kernelspec": {
   "display_name": "Python 3",
   "language": "python",
   "name": "python3"
  },
  "language_info": {
   "codemirror_mode": {
    "name": "ipython",
    "version": 3
   },
   "file_extension": ".py",
   "mimetype": "text/x-python",
   "name": "python",
   "nbconvert_exporter": "python",
   "pygments_lexer": "ipython3",
   "version": "3.8.6"
  }
 },
 "nbformat": 4,
 "nbformat_minor": 4
}
