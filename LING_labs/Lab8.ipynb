{
 "cells": [
  {
   "cell_type": "code",
   "execution_count": null,
   "metadata": {},
   "outputs": [],
   "source": [
    "\n",
    "myFile = open(\"nameslist.txt\")\n",
    "read = myFile.readlines()\n",
    "fileSize = len(read)\n",
    "print(read[2])\n",
    "i = 0\n",
    "y = 0\n",
    "while (i < fileSize):\n",
    "    reading = read[i]\n",
    "    if(reading == 'Darth\\n'):\n",
    "        y  = y + 1\n",
    "    i += 1\n",
    "print y\n",
    "\n"
   ]
  },
  {
   "cell_type": "code",
   "execution_count": null,
   "metadata": {},
   "outputs": [],
   "source": []
  },
  {
   "cell_type": "code",
   "execution_count": null,
   "metadata": {},
   "outputs": [],
   "source": [
    "\n",
    "myFile = open(\"nameslist.txt\")\n",
    "read = myFile.readlines()\n",
    "fileSize = len(read)\n",
    "print(read[2])\n",
    "i = 0\n",
    "y = 0\n",
    "while (i < fileSize):\n",
    "    reading = read[i]\n",
    "    if(reading == 'Darth\\n'):\n",
    "        y  = y + 1\n",
    "    i += 1\n",
    "print y\n",
    "\n"
   ]
  },
  {
   "cell_type": "code",
   "execution_count": null,
   "metadata": {},
   "outputs": [],
   "source": []
  }
 ],
 "metadata": {
  "kernelspec": {
   "display_name": "Python 3",
   "language": "python",
   "name": "python3"
  },
  "language_info": {
   "codemirror_mode": {
    "name": "ipython",
    "version": 3
   },
   "file_extension": ".py",
   "mimetype": "text/x-python",
   "name": "python",
   "nbconvert_exporter": "python",
   "pygments_lexer": "ipython3",
   "version": "3.8.5"
  }
 },
 "nbformat": 4,
 "nbformat_minor": 4
}
