{
 "cells": [
  {
   "cell_type": "code",
   "execution_count": 2,
   "metadata": {},
   "outputs": [
    {
     "data": {
      "image/png": "[encoded data removed]",
      "text/plain": [
       "<Figure size 432x288 with 1 Axes>"
      ]
     },
     "metadata": {
      "needs_background": "light"
     },
     "output_type": "display_data"
    }
   ],
   "source": [
    "%matplotlib inline\n",
    "from matplotlib import pyplot as plt\n",
    "myfile = open('1200wsj.txt') \n",
    "mystring = myfile.read() \n",
    "lowerstr = mystring.lower() \n",
    "characters = list(lowerstr) #makes list of characters\n",
    "lettercount = {} \n",
    "for w in characters: #counts letters    \n",
    "    if w in lettercount:        \n",
    "        lettercount[w] += 1   \n",
    "    else:        \n",
    "        lettercount[w] = 1\n",
    "\n",
    "del lettercount[\" \"] #deletes spaces from lettercount\n",
    "sorted_dic = {k: v for k, v in sorted(lettercount.items(), key=lambda item: item[1],reverse=True)}\n",
    "\n",
    "keys = sorted_dic.keys()\n",
    "values = sorted_dic.values()\n",
    "plt.bar(keys, values,color = 'red')\n",
    "plt.title(\"Character Frequency\")\n",
    "plt.xlabel(\"Characters\")\n",
    "plt.ylabel(\"Frequency\")\n",
    "plt.show()\n",
    "\n"
   ]
  },
  {
   "cell_type": "code",
   "execution_count": 3,
   "metadata": {},
   "outputs": [
    {
     "data": {
      "image/png": "[encoded data removed]",
      "text/plain": [
       "<Figure size 432x288 with 1 Axes>"
      ]
     },
     "metadata": {
      "needs_background": "light"
     },
     "output_type": "display_data"
    }
   ],
   "source": [
    "%matplotlib inline\n",
    "from matplotlib import pyplot as plt\n",
    "myfile = open('1200wsj.txt') #open file\n",
    "mystring = myfile.read() #read file into massive string\n",
    "lowerstr = mystring.lower() #makes string lower case\n",
    "split_string  = lowerstr.split() #splits string at white spaces\n",
    "filteredList = list(filter(lambda x : len(x) >= 4 , split_string)) #filters list, leaves words with 4 or more characters\n",
    "t = len(filteredList) #length of filtered list for later while loop \n",
    "suffix_two = []  #list of possible two letter suffixes\n",
    "suffix_three = [] #list of possible three letter suffixes\n",
    "wordcounts = {} #dictionary of words in text \n",
    "for w in split_string:  #makes dictionary of all words along with frequency  \n",
    "    if w in wordcounts:       \n",
    "        wordcounts[w] += 1    \n",
    "    else:        \n",
    "        wordcounts[w] = 1\n",
    "\n",
    "def splitter_two(t):  # function splitting words into characters to seperate 2 letter suffixes\n",
    "    characters = list(t)  #splits word into characters makes it a list\n",
    "    characters_unsuffixed = [] #list for actual words without suffix\n",
    "    i = 0\n",
    "    while(i < len(characters)-2): #makes word without suffix, lenght minus two to make sure it doesn't get suffix\n",
    "        characters_unsuffixed.append(characters[i]) #adds characters to unsuffixed word list\n",
    "        i += 1\n",
    "    back_word = \"\".join(characters_unsuffixed) #joins unsuffixed list into string \n",
    "    one = characters[len(t)-1] #one letter of suffix\n",
    "    two = characters[len(t)-2] #second letter of suffix\n",
    "    three = two + one #joins one and two to make suffix string\n",
    "    check(back_word,three) #calls function to check if suffix or not\n",
    "\n",
    "def splitter_three(t): #same thing as splitter_two but just for three letter suffixes\n",
    "    characters = list(t) \n",
    "    characters_unsuffixed_two = []\n",
    "    i = 0\n",
    "    while(i < len(characters)-3):\n",
    "        characters_unsuffixed_two.append(characters[i])\n",
    "        i += 1\n",
    "    back_word = \"\".join(characters_unsuffixed_two)\n",
    "    one = characters[len(t)-1]\n",
    "    two = characters[len(t)-2]\n",
    "    three = characters[len(t)-3]\n",
    "    four =three + two + one\n",
    "    check_two(back_word,four) #calls function check two\n",
    "\n",
    "def check(s,a): #function for two letter suffix check\n",
    "    if s in wordcounts: #checks if words s, is in dictionary wordcounts\n",
    "        suffix_two.append(a)#if word \"s\" is in dictionary, it appends suffix \"a\" into list             \n",
    "    else: \n",
    "        return #exits if not\n",
    "def check_two(s,a):#function for three letter suffix check\n",
    "    if s in wordcounts:\n",
    "        suffix_three.append(a)#if word \"s\" is in dictionary, it appends suffix \"a\" into list    \n",
    "    else:\n",
    "        return\n",
    "i = 0\n",
    "while (i < t): #goes through all words in text file\n",
    "    word = filteredList[i] #makes word it is on into a 'word'\n",
    "    splitter_two(word) #sends word to function\n",
    "    splitter_three(word) #sends word to other function\n",
    "    i += 1\n",
    "\n",
    "suffix_count = {} #dictionary for two letter suffixes\n",
    "suffix_counts = {} #dictionary for three letter suffixes\n",
    "for w in suffix_two:    #counts how many times suffix was in list\n",
    "    if w in suffix_count:       \n",
    "        suffix_count[w] += 1    \n",
    "    else:        \n",
    "        suffix_count[w] = 1\n",
    "for w in suffix_three: #counts how many times suffix was in list\n",
    "    if w in suffix_counts:       \n",
    "        suffix_counts[w] += 1    \n",
    "    else:        \n",
    "        suffix_counts[w] = 1\n",
    "suffix_count.update(suffix_counts) #joins two letter suffix dict with three letter suffix\n",
    "suffix_counted = {k: v for k, v in sorted(suffix_count.items(), key=lambda item:item[1],reverse = True)}\n",
    "#^^sorts list by value, reversed\n",
    "filtered_dict = dict(filter(lambda item: item[1] >=30  , suffix_counted.items())) #filters dicitonary to only make 20 values\n",
    "keys = filtered_dict.keys() #makes keys to plot\n",
    "values = filtered_dict.values() #makes values to plot\n",
    "plt.bar(keys, values, color = 'g') #bar graph in green\n",
    "plt.xlabel(\"Suffixes\")\n",
    "plt.ylabel(\"Frequency\")\n",
    "plt.title(\"Suffix Frequencies\")\n",
    "plt.show()\n"
   ]
  },
  {
   "cell_type": "code",
   "execution_count": null,
   "metadata": {},
   "outputs": [],
   "source": []
  }
 ],
 "metadata": {
  "kernelspec": {
   "display_name": "Python 3",
   "language": "python",
   "name": "python3"
  },
  "language_info": {
   "codemirror_mode": {
    "name": "ipython",
    "version": 3
   },
   "file_extension": ".py",
   "mimetype": "text/x-python",
   "name": "python",
   "nbconvert_exporter": "python",
   "pygments_lexer": "ipython3",
   "version": "3.7.3"
  }
 },
 "nbformat": 4,
 "nbformat_minor": 4
}
