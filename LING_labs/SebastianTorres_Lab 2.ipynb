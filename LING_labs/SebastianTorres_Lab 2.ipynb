{
 "cells": [
  {
   "cell_type": "code",
   "execution_count": 1,
   "metadata": {},
   "outputs": [
    {
     "name": "stdin",
     "output_type": "stream",
     "text": [
      "Please enter an integer number: 12\n"
     ]
    },
    {
     "name": "stdout",
     "output_type": "stream",
     "text": [
      "1884\n"
     ]
    }
   ],
   "source": [
    "#Lab 2 Part 0\n",
    "num = int(input(\"Please enter an integer number:\"))\n",
    "numTot = num + (num*num)+(num*num*num)\n",
    "print(numTot)"
   ]
  },
  {
   "cell_type": "code",
   "execution_count": 2,
   "metadata": {},
   "outputs": [
    {
     "name": "stdin",
     "output_type": "stream",
     "text": [
      "Enter radius of your circle: 2\n"
     ]
    },
    {
     "name": "stdout",
     "output_type": "stream",
     "text": [
      "12.566370614359172\n"
     ]
    }
   ],
   "source": [
    "#lab 2 Part 1\n",
    "import math\n",
    "radius = float(input(\"Enter radius of your circle:\"))\n",
    "area = float(math.pi * (radius**2))\n",
    "print(area)"
   ]
  },
  {
   "cell_type": "code",
   "execution_count": 3,
   "metadata": {},
   "outputs": [
    {
     "name": "stdout",
     "output_type": "stream",
     "text": [
      "Addition: 11\n",
      "Subtraction: -3\n",
      "Multiplication: 28\n",
      "Division: 1.75\n",
      "Integer Division: 1\n",
      "Modulo Division: 4\n"
     ]
    }
   ],
   "source": [
    "#lab 2 Part 2\n",
    "addition = 7 + 4\n",
    "subtraction = 4 - 7\n",
    "multiplication = 7 * 4\n",
    "division = 7/4\n",
    "divisionint = 7 // 4\n",
    "divisonmodulo = 4 % 7\n",
    "print(\"Addition:\",addition)\n",
    "print(\"Subtraction:\", subtraction)\n",
    "print(\"Multiplication:\", multiplication)\n",
    "print(\"Division:\", division)\n",
    "print(\"Integer Division:\", divisionint)\n",
    "print(\"Modulo Division:\",divisonmodulo)"
   ]
  },
  {
   "cell_type": "code",
   "execution_count": 4,
   "metadata": {},
   "outputs": [
    {
     "name": "stdin",
     "output_type": "stream",
     "text": [
      "Please enter an integer number: 12\n",
      "What is your guess for the final result? 1884\n"
     ]
    },
    {
     "name": "stdout",
     "output_type": "stream",
     "text": [
      "Good guess! You are correct\n",
      "Correct answer: 1884\n"
     ]
    }
   ],
   "source": [
    "#Lab 2 Part 3\n",
    "#Not exactly what the part asked for but it's as far as i got\n",
    "num = int(input(\"Please enter an integer number:\"))\n",
    "numTot = num + (num*num)+(num*num*num)\n",
    "guess = int(input(\"What is your guess for the final result?\"))\n",
    "if (guess == numTot):\n",
    "    print(\"Good guess! You are correct\")\n",
    "elif (guess != numTot):\n",
    "    print(\"Sorry that is incorrect\")\n",
    "print(\"Correct answer:\", numTot)"
   ]
  },
  {
   "cell_type": "code",
   "execution_count": null,
   "metadata": {},
   "outputs": [],
   "source": []
  }
 ],
 "metadata": {
  "kernelspec": {
   "display_name": "Python 3",
   "language": "python",
   "name": "python3"
  },
  "language_info": {
   "codemirror_mode": {
    "name": "ipython",
    "version": 3
   },
   "file_extension": ".py",
   "mimetype": "text/x-python",
   "name": "python",
   "nbconvert_exporter": "python",
   "pygments_lexer": "ipython3",
   "version": "3.7.3"
  }
 },
 "nbformat": 4,
 "nbformat_minor": 4
}
