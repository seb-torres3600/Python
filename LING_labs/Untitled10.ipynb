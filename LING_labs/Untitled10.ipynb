{
 "cells": [
  {
   "cell_type": "code",
   "execution_count": 21,
   "metadata": {},
   "outputs": [
    {
     "name": "stdout",
     "output_type": "stream",
     "text": [
      "[['10'], ['23'], ['38'], ['53'], ['69'], ['86'], ['103'], ['121'], ['138'], ['156'], ['174'], ['192'], ['211'], ['229'], ['248'], ['268'], ['286'], ['308'], ['327'], ['347'], ['368'], ['389'], ['407'], ['427'], ['448'], ['467'], ['489'], ['509'], ['529'], ['553'], ['571'], ['593'], ['615'], ['635'], ['656'], ['678'], ['698'], ['701'], ['743'], ['764'], ['780'], ['788'], ['807'], ['829'], ['850'], ['874'], ['886'], ['889'], ['886'], ['888'], ['888'], ['885'], ['887'], ['879'], ['897'], ['914'], ['935'], ['952'], ['971'], ['988'], ['1008'], ['1132'], ['1044'], ['1235'], ['1087'], ['1102'], ['1140'], ['1287'], ['1543'], ['1233'], ['1393'], ['1283'], ['1295'], ['1358'], ['1376'], ['1293'], ['1311'], ['1330'], ['1449'], ['1367'], ['1389'], ['1408'], ['1429'], ['1449'], ['1466'], ['1489'], ['1506'], ['1561'], ['1543'], ['1560'], ['1584'], ['1602'], ['1621'], ['1640'], ['1659'], ['1677'], ['1700'], ['1718'], ['1738'], ['1755']]\n"
     ]
    }
   ],
   "source": [
    "%matplotlib inline\n",
    "from matplotlib import pyplot as plt\n",
    "import csv\n",
    "\n",
    "with open('heapsort_time.csv', newline='') as f:\n",
    "    reader = csv.reader(f)\n",
    "    data = list(reader) \n",
    "    print(data)\n",
    "    new_data = []\n",
    "    i = 0\n",
    "    while(i )\n",
    "    \n",
    "    "
   ]
  },
  {
   "cell_type": "code",
   "execution_count": null,
   "metadata": {},
   "outputs": [],
   "source": []
  }
 ],
 "metadata": {
  "kernelspec": {
   "display_name": "Python 3",
   "language": "python",
   "name": "python3"
  },
  "language_info": {
   "codemirror_mode": {
    "name": "ipython",
    "version": 3
   },
   "file_extension": ".py",
   "mimetype": "text/x-python",
   "name": "python",
   "nbconvert_exporter": "python",
   "pygments_lexer": "ipython3",
   "version": "3.8.5"
  }
 },
 "nbformat": 4,
 "nbformat_minor": 4
}
