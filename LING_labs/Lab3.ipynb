{
 "cells": [
  {
   "cell_type": "code",
   "execution_count": 1,
   "metadata": {},
   "outputs": [
    {
     "name": "stdin",
     "output_type": "stream",
     "text": [
      "Enter input units(km/m/cm/mi/yd/in): km\n",
      "Enter outputs units(km/m/cm/mi/yd/in): in\n",
      "Enter quantity to convert: 12\n"
     ]
    },
    {
     "name": "stdout",
     "output_type": "stream",
     "text": [
      "12 km is 472440.945 in\n"
     ]
    }
   ],
   "source": [
    "#Sebastian Torres\n",
    "#Homework 1-LING, Part 2\n",
    "\n",
    "unitsInput = input(\"Enter input units(km/m/cm/mi/yd/in):\")\n",
    "\n",
    "    \n",
    "unitsOutput = input(\"Enter outputs units(km/m/cm/mi/yd/in):\")\n",
    "quantity = int(input(\"Enter quantity to convert:\"))\n",
    "\n",
    "if unitsInput == \"km\":\n",
    "     meter = quantity * 1000\n",
    "if unitsInput == \"m\":\n",
    "     meter = quantity\n",
    "if unitsInput == \"cm\":\n",
    "     meter = quantity * .01\n",
    "if unitsInput == \"mi\":\n",
    "     meter = quantity * 1609.34\n",
    "if unitsInput == \"yd\":\n",
    "     meter = quantity * .9144\n",
    "if unitsInput == \"in\":\n",
    "     meter = quantity * .0254\n",
    "if unitsOutput == \"km\":\n",
    "     conversion = meter / 1000\n",
    "if unitsOutput == \"m\":\n",
    "     conversion = meter\n",
    "if unitsOutput == \"cm\":\n",
    "     conversion = meter*100\n",
    "if unitsOutput == \"mi\":\n",
    "     conversion = meter/1609.34\n",
    "if unitsOutput == \"yd\":\n",
    "     conversion = meter/.9144\n",
    "if unitsOutput == \"in\":\n",
    "     conversion = meter /.0254\n",
    "\n",
    "conversionRound = round(conversion, 3)\n",
    "print(quantity, unitsInput, \"is\",conversionRound, unitsOutput)\n"
   ]
  },
  {
   "cell_type": "code",
   "execution_count": 2,
   "metadata": {},
   "outputs": [
    {
     "name": "stdout",
     "output_type": "stream",
     "text": [
      "Only answer with yes or no\n"
     ]
    },
    {
     "name": "stdin",
     "output_type": "stream",
     "text": [
      "Does it live in water? yes\n",
      "Is it a mammal? yes\n",
      "Is it large in size? yes\n"
     ]
    },
    {
     "name": "stdout",
     "output_type": "stream",
     "text": [
      "It's a whale!\n"
     ]
    }
   ],
   "source": [
    "#Sebastian Torres\n",
    "#Homework 1, Part A\n",
    "\n",
    "print(\"Only answer with yes or no\")\n",
    "water = input(\"Does it live in water?\")\n",
    "if (water == \"yes\"):\n",
    "    mammal = input(\"Is it a mammal?\")\n",
    "    if (mammal == \"yes\"):\n",
    "        size = input(\"Is it large in size?\")\n",
    "        if size == \"yes\":\n",
    "            print(\"It's a whale!\")"
   ]
  },
  {
   "cell_type": "code",
   "execution_count": null,
   "metadata": {},
   "outputs": [],
   "source": []
  }
 ],
 "metadata": {
  "kernelspec": {
   "display_name": "Python 3",
   "language": "python",
   "name": "python3"
  },
  "language_info": {
   "codemirror_mode": {
    "name": "ipython",
    "version": 3
   },
   "file_extension": ".py",
   "mimetype": "text/x-python",
   "name": "python",
   "nbconvert_exporter": "python",
   "pygments_lexer": "ipython3",
   "version": "3.8.5"
  }
 },
 "nbformat": 4,
 "nbformat_minor": 4
}
