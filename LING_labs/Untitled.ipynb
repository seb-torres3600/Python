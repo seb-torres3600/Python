{
 "cells": [
  {
   "cell_type": "code",
   "execution_count": 1,
   "metadata": {},
   "outputs": [
    {
     "name": "stdout",
     "output_type": "stream",
     "text": [
      "Scores were as following: John: 75, Ann: 80, Ally: 60\n"
     ]
    }
   ],
   "source": [
    "#Lab 10, Part A\n",
    "#Sebastian Torres\n",
    "\n",
    "John = 75\n",
    "Ann = 80\n",
    "Ally = 60\n",
    "\n",
    "myString = \"Scores were as following: John: {:2d}, Ann: {:2d}, Ally: {:2d}\"\n",
    "\n",
    "print(myString.format(John,Ann,Ally))\n"
   ]
  },
  {
   "cell_type": "code",
   "execution_count": 2,
   "metadata": {},
   "outputs": [
    {
     "name": "stdout",
     "output_type": "stream",
     "text": [
      "1 x 9 =  9\n",
      "2 x 9 = 18\n",
      "3 x 9 = 27\n",
      "4 x 9 = 36\n",
      "5 x 9 = 45\n",
      "6 x 9 = 54\n",
      "7 x 9 = 63\n",
      "8 x 9 = 72\n",
      "9 x 9 = 81\n"
     ]
    }
   ],
   "source": [
    "#Sebastian Torres\n",
    "#Lab 10, Part B\n",
    "\n",
    "def multitable(n):\n",
    "    i = 1\n",
    "    while(i <= 9):\n",
    "        y = i * n\n",
    "        print(\"{:d} x {:d} = {:2d}\".format(i,n,y))\n",
    "        i += 1\n",
    "        \n",
    "\n",
    "multitable(9)"
   ]
  },
  {
   "cell_type": "code",
   "execution_count": null,
   "metadata": {},
   "outputs": [],
   "source": []
  }
 ],
 "metadata": {
  "kernelspec": {
   "display_name": "Python 3",
   "language": "python",
   "name": "python3"
  },
  "language_info": {
   "codemirror_mode": {
    "name": "ipython",
    "version": 3
   },
   "file_extension": ".py",
   "mimetype": "text/x-python",
   "name": "python",
   "nbconvert_exporter": "python",
   "pygments_lexer": "ipython3",
   "version": "3.7.3"
  }
 },
 "nbformat": 4,
 "nbformat_minor": 4
}
