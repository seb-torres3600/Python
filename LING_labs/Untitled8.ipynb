{
 "cells": [
  {
   "cell_type": "code",
   "execution_count": null,
   "metadata": {},
   "outputs": [],
   "source": [
    "%matplotlib inline\n",
    "from matplotlib import pyplot as plt\n",
    "myfile = open('1200wsj.txt')\n",
    "bigString = myfile.read()\n",
    "myList = bigString.split()\n",
    "wordcounts = {}\n",
    "for w in myList:    \n",
    "    if w in wordcounts:        \n",
    "        wordcounts[w] += 1   \n",
    "    else:        \n",
    "        wordcounts[w] = 1\n",
    "#sorted(wordcounts[1])\n",
    "x = {k: v for k, v in sorted(wordcounts.items(), key=lambda item: item[1])}\n",
    "\n",
    "words = []\n",
    "counts = []\n",
    "for pair in x.items():\n",
    "    counts.append(pair[1])\n",
    "    words.append(pair[0])\n",
    "words.reverse()\n",
    "counts.reverse()\n",
    "plt.bar(words,counts)\n",
    "plt.xlabel(\"Words\")\n",
    "plt.ylabel(\"Counts\")\n",
    "plt.show()\n",
    "#print(counts)\n",
    "#print(words)"
   ]
  },
  {
   "cell_type": "code",
   "execution_count": null,
   "metadata": {},
   "outputs": [],
   "source": []
  }
 ],
 "metadata": {
  "kernelspec": {
   "display_name": "Python 3",
   "language": "python",
   "name": "python3"
  },
  "language_info": {
   "codemirror_mode": {
    "name": "ipython",
    "version": 3
   },
   "file_extension": ".py",
   "mimetype": "text/x-python",
   "name": "python",
   "nbconvert_exporter": "python",
   "pygments_lexer": "ipython3",
   "version": "3.7.3"
  }
 },
 "nbformat": 4,
 "nbformat_minor": 4
}
